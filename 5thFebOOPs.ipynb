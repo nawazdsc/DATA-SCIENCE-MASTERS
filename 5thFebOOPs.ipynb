{
 "cells": [
  {
   "cell_type": "markdown",
   "id": "d526a885-19cd-44a0-8da0-78f540d052c5",
   "metadata": {},
   "source": [
    "### Q1. Explain Class and Object with respect to Object-Oriented Programming. Give a suitable example."
   ]
  },
  {
   "cell_type": "markdown",
   "id": "856339b7-4d7f-4c68-90a3-3ea17476cb63",
   "metadata": {},
   "source": [
    "In object-oriented programming (OOP), a class is a blueprint or a template for creating objects, while an object is an instance of a class that contains data and methods.\n",
    "\n",
    "A class defines a set of attributes and methods that are common to all objects of that class. The attributes represent the state or data of the object, while the methods define its behavior or actions that can be performed on the object.\n",
    "\n",
    "For example, consider a class called \"Car\". This class could have attributes like \"color\", \"make\", \"model\", \"year\", and \"mileage\". It could also have methods like \"start\", \"stop\", \"accelerate\", and \"brake\".\n",
    "\n",
    "An object of the class \"Car\" would be an instance of the class that contains specific values for the attributes defined in the class. For example, an object of the \"Car\" class could be a red Toyota Camry from 2015 with 30,000 miles on it."
   ]
  },
  {
   "cell_type": "code",
   "execution_count": 6,
   "id": "f94c9e1c-5d50-407b-98e3-51c7baf1eac4",
   "metadata": {},
   "outputs": [],
   "source": [
    "class Car:\n",
    "    def __init__(self, color, make, model, year, mileage):\n",
    "        self.color = color\n",
    "        self.make = make\n",
    "        self.model = model\n",
    "        self.year = year\n",
    "        self.mileage = mileage\n",
    "\n",
    "    def start(self):\n",
    "        print(\"The car has started.\")\n",
    "\n",
    "    def stop(self):\n",
    "        print(\"The car has stopped.\")\n",
    "\n",
    "    def accelerate(self):\n",
    "        print(\"The car is accelerating.\")\n",
    "\n",
    "    def brake(self):\n",
    "        print(\"The car is braking.\")\n",
    "    def car_details(self):\n",
    "        return self.color,self.make,self.model,self.year,self.mileage\n",
    "my_car = Car(\"red\", \"Toyota\", \"Camry\", 2015, 30000)\n"
   ]
  },
  {
   "cell_type": "code",
   "execution_count": 8,
   "id": "a326cc4e-9eb3-4a00-9265-b9f6752dd7a6",
   "metadata": {},
   "outputs": [
    {
     "data": {
      "text/plain": [
       "('red', 'Toyota', 'Camry', 2015, 30000)"
      ]
     },
     "execution_count": 8,
     "metadata": {},
     "output_type": "execute_result"
    }
   ],
   "source": [
    "my_car.car_details()"
   ]
  },
  {
   "cell_type": "markdown",
   "id": "5c8f0af6-edef-40f9-8881-e1270ffc1022",
   "metadata": {},
   "source": [
    "### Q2. Name the efour pillars of OOPs."
   ]
  },
  {
   "cell_type": "markdown",
   "id": "376efe99-65b9-4736-a2a5-338c5092798b",
   "metadata": {},
   "source": [
    "There are typically four basic pillars, or principles, in Object-Oriented Programming (OOP):\n",
    "\n",
    "Encapsulation: This principle emphasizes the bundling of data and methods into a single unit, and controlling access to that unit to prevent unauthorized access and modification.\n",
    "\n",
    "Inheritance: This principle allows classes to inherit properties and methods from a parent class, enabling the creation of new classes that are similar but with some modifications or additional functionality.\n",
    "\n",
    "Polymorphism: This principle refers to the ability of an object to take on multiple forms and behave differently based on the context in which it is used.\n",
    "\n",
    "Abstraction: This principle emphasizes the idea of hiding complex implementation details of a class and exposing only relevant information to the user. This allows users to use the class without needing to understand its underlying complexity."
   ]
  },
  {
   "cell_type": "markdown",
   "id": "175d7c92-2537-4f06-8ae4-1f9d42e402fb",
   "metadata": {},
   "source": [
    "### Q3. Explain why the __init__() function is used. Give a suitable example."
   ]
  },
  {
   "cell_type": "markdown",
   "id": "365f6107-0085-4fc1-b2b5-90e7b1eb138d",
   "metadata": {},
   "source": [
    "The __init__() function is a special method in Python classes that is used to initialize the attributes of an object when it is created. It takes the self parameter, which is a reference to the object being created, as well as any other parameters that are required to initialize the attributes of the object. Inside the __init__() method, you can set the initial values of the object's attributes using the self keyword (other user given name can also be used instead of self). By using the __init__() method to initialize the attributes of an object, you can ensure that the object is created with the correct initial state."
   ]
  },
  {
   "cell_type": "code",
   "execution_count": 13,
   "id": "e5012760-7f6f-4fb0-99ed-7e23283ee21e",
   "metadata": {},
   "outputs": [
    {
     "name": "stdout",
     "output_type": "stream",
     "text": [
      "(25, 'female', 'Alice')\n",
      "(30, 'male', 'Bob')\n"
     ]
    }
   ],
   "source": [
    "class Person:\n",
    "    def __init__(self, name, age, gender):\n",
    "        self.name = name\n",
    "        self.age = age\n",
    "        self.gender = gender\n",
    "    def person_details(self):\n",
    "        return self.age,self.gender,self.name\n",
    "person1 = Person(\"Alice\", 25, \"female\")\n",
    "person2 = Person(\"Bob\", 30, \"male\")\n",
    "\n",
    "print(person1.person_details())\n",
    "print(person2.person_details())"
   ]
  },
  {
   "cell_type": "markdown",
   "id": "3fa55eaa-be80-47a7-838b-865510093260",
   "metadata": {},
   "source": [
    "### Q4. Why self is used in OOPs?"
   ]
  },
  {
   "cell_type": "markdown",
   "id": "635643dd-2bc8-4add-bc03-ca2ed4cf2ff4",
   "metadata": {},
   "source": [
    "In OOP, the `self` keyword is used to refer to the instance of the class that is being created or manipulated. It is a reference to the current object that is calling the method. By using the `self` keyword, you can access the attributes and methods of the current object from within a method, allowing you to manipulate the object's state and behavior and perform actions on the object that depend on its current state."
   ]
  },
  {
   "cell_type": "markdown",
   "id": "deb9e90b-ad69-4682-a3c7-1e202553b53d",
   "metadata": {},
   "source": [
    "### Q5. What is inheritance? Give an example for each type of inheritance."
   ]
  },
  {
   "cell_type": "markdown",
   "id": "a164aa2b-8320-4c05-be78-0949acf624d1",
   "metadata": {},
   "source": [
    "Inheritance is a key concept in object-oriented programming that allows a new class to be based on an existing class. The new class inherits the properties and behaviors of the existing class, and can also add new properties and behaviors or modify the existing ones. This makes it possible to reuse code and create a hierarchy of related classes.\n",
    "\n",
    "There are four types of inheritance in Python:\n",
    "\n",
    "1. Single inheritance: In single inheritance, a new class is created by inheriting the properties and methods of a single base class. The new class can also add new properties and methods or override the existing ones.\n",
    "Example:"
   ]
  },
  {
   "cell_type": "code",
   "execution_count": 14,
   "id": "a4e43cd8-7b1b-434b-86ec-d38db9106818",
   "metadata": {},
   "outputs": [
    {
     "name": "stdout",
     "output_type": "stream",
     "text": [
      "Rufus\n",
      "Woof!\n"
     ]
    }
   ],
   "source": [
    "class Animal:\n",
    "    def __init__(self, name):\n",
    "        self.name = name\n",
    "\n",
    "    def speak(self):\n",
    "        print(\"\")\n",
    "\n",
    "class Dog(Animal):\n",
    "    def speak(self):\n",
    "        print(\"Woof!\")\n",
    "\n",
    "dog = Dog(\"Rufus\")\n",
    "print(dog.name)\n",
    "dog.speak()\n"
   ]
  },
  {
   "cell_type": "markdown",
   "id": "80221cc4-f9d9-4faf-a12c-f2f2d2166370",
   "metadata": {},
   "source": [
    "In this example, the Dog class inherits from the Animal class and overrides the speak() method to make the dog bark.\n",
    "\n",
    "2. Multiple inheritance: In multiple inheritance, a new class is created by inheriting the properties and methods of multiple base classes. The new class can also add new properties and methods or override the existing ones.\n",
    "Example:"
   ]
  },
  {
   "cell_type": "code",
   "execution_count": 15,
   "id": "863eab6e-05d7-488c-968b-f43d1e5818f8",
   "metadata": {},
   "outputs": [
    {
     "name": "stdout",
     "output_type": "stream",
     "text": [
      "Tweety\n",
      "Chirp!\n",
      "I can fly\n"
     ]
    }
   ],
   "source": [
    "class Animal:\n",
    "    def __init__(self, name):\n",
    "        self.name = name\n",
    "\n",
    "    def speak(self):\n",
    "        print(\"\")\n",
    "\n",
    "class CanFly:\n",
    "    def fly(self):\n",
    "        print(\"I can fly\")\n",
    "\n",
    "class Bird(Animal, CanFly):\n",
    "    def speak(self):\n",
    "        print(\"Chirp!\")\n",
    "\n",
    "bird = Bird(\"Tweety\")\n",
    "print(bird.name)\n",
    "bird.speak()\n",
    "bird.fly()\n"
   ]
  },
  {
   "cell_type": "markdown",
   "id": "106a6d80-8af0-453f-935f-d6e8b57daff8",
   "metadata": {},
   "source": [
    "In this example, the Bird class inherits from both the Animal and CanFly classes and overrides the speak() method to make the bird chirp. It also adds a new method fly().\n",
    "\n",
    "3. Hierarchical inheritance: In hierarchical inheritance, a new class is created by inheriting the properties and methods of a single base class, and multiple derived classes inherit from this base class.\n",
    "Example:"
   ]
  },
  {
   "cell_type": "code",
   "execution_count": 16,
   "id": "7dc68e58-a5b0-4048-96a5-04b2295b8348",
   "metadata": {},
   "outputs": [
    {
     "name": "stdout",
     "output_type": "stream",
     "text": [
      "Whiskers\n",
      "Meow!\n",
      "Rufus\n",
      "Woof!\n"
     ]
    }
   ],
   "source": [
    "class Animal:\n",
    "    def __init__(self, name):\n",
    "        self.name = name\n",
    "\n",
    "    def speak(self):\n",
    "        print(\"\")\n",
    "\n",
    "class Cat(Animal):\n",
    "    def speak(self):\n",
    "        print(\"Meow!\")\n",
    "\n",
    "class Dog(Animal):\n",
    "    def speak(self):\n",
    "        print(\"Woof!\")\n",
    "\n",
    "cat = Cat(\"Whiskers\")\n",
    "dog = Dog(\"Rufus\")\n",
    "print(cat.name)\n",
    "cat.speak()\n",
    "print(dog.name)\n",
    "dog.speak()\n"
   ]
  },
  {
   "cell_type": "markdown",
   "id": "10f65056-9166-40cd-8d0e-2b40e3f769da",
   "metadata": {},
   "source": [
    "In this example, the Cat and Dog classes both inherit from the Animal class and override the speak() method to make the cat meow and the dog bark.\n",
    "\n",
    "4. Multilevel inheritance: In multilevel inheritance, a new class is created by inheriting from a derived class, which itself is derived from a base class. This creates a hierarchy of classes with multiple levels of inheritance.\n",
    "Example:"
   ]
  },
  {
   "cell_type": "code",
   "execution_count": 17,
   "id": "62c32a82-5c39-4366-a932-4c455ef1fb69",
   "metadata": {},
   "outputs": [
    {
     "name": "stdout",
     "output_type": "stream",
     "text": [
      "Rufus\n",
      "Feeding young with milk\n",
      "Woof!\n"
     ]
    }
   ],
   "source": [
    "class Animal:\n",
    "    def __init__(self, name):\n",
    "        self.name = name\n",
    "\n",
    "    def speak(self):\n",
    "        print(\"\")\n",
    "\n",
    "class Mammal(Animal):\n",
    "    def feed_young_with_milk(self):\n",
    "        print(\"Feeding young with milk\")\n",
    "\n",
    "class Dog(Mammal):\n",
    "    def speak(self):\n",
    "        print(\"Woof!\")\n",
    "\n",
    "dog = Dog(\"Rufus\")\n",
    "print(dog.name)\n",
    "dog.feed_young_with_milk()\n",
    "dog.speak()\n"
   ]
  },
  {
   "cell_type": "markdown",
   "id": "aab32c93-85bf-4603-b705-0d6b6a77b21b",
   "metadata": {},
   "source": [
    "In this example, the Dog class inherits from the Mammal class, which in turn inherits from the Animal class. The Dog class overrides the speak() method to make the dog bark and adds a new"
   ]
  },
  {
   "cell_type": "code",
   "execution_count": null,
   "id": "169cb4ed-e481-40f0-8c63-52e86cba8898",
   "metadata": {},
   "outputs": [],
   "source": []
  }
 ],
 "metadata": {
  "kernelspec": {
   "display_name": "Python 3 (ipykernel)",
   "language": "python",
   "name": "python3"
  },
  "language_info": {
   "codemirror_mode": {
    "name": "ipython",
    "version": 3
   },
   "file_extension": ".py",
   "mimetype": "text/x-python",
   "name": "python",
   "nbconvert_exporter": "python",
   "pygments_lexer": "ipython3",
   "version": "3.10.8"
  }
 },
 "nbformat": 4,
 "nbformat_minor": 5
}
