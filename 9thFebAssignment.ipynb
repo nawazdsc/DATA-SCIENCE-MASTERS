{
 "cells": [
  {
   "cell_type": "markdown",
   "id": "75b7261e-5581-401d-88c6-eb87b21751f3",
   "metadata": {},
   "source": [
    "### Q1, Create a vehicle class with an init method having instance variables as name_of_vehicle, max_speed and average_of_vehicle."
   ]
  },
  {
   "cell_type": "code",
   "execution_count": 1,
   "id": "a3637501-cf73-4892-8484-1784183bf90d",
   "metadata": {},
   "outputs": [],
   "source": [
    "class vehicle:\n",
    "    def __init__(self, name_of_vehicle, max_speed, average_of_vehicle):\n",
    "        self.name_of_vehicle = name_of_vehicle\n",
    "        self.max_speed = max_speed\n",
    "        self.average_of_vehicle = average_of_vehicle"
   ]
  },
  {
   "cell_type": "code",
   "execution_count": 3,
   "id": "42e8a91b-021e-490a-87fd-1ad9564a0f7e",
   "metadata": {},
   "outputs": [],
   "source": [
    "objV= vehicle(\"Swift\", 200, 25)"
   ]
  },
  {
   "cell_type": "code",
   "execution_count": 9,
   "id": "e5a49bae-7daa-4355-ae86-d4c20f0008d1",
   "metadata": {},
   "outputs": [
    {
     "name": "stdout",
     "output_type": "stream",
     "text": [
      "Name of vehicle: Swift\n",
      "Max speed: 200\n",
      "Average: 25\n"
     ]
    }
   ],
   "source": [
    "print(\"Name of vehicle:\",objV.name_of_vehicle)\n",
    "print(\"Max speed:\",objV.max_speed)\n",
    "print(\"Average:\",objV.average_of_vehicle)"
   ]
  },
  {
   "cell_type": "markdown",
   "id": "b9e55c6f-a4db-45cf-b29c-d0c581c576fe",
   "metadata": {},
   "source": [
    "### Q2. Create a child class car from the vehicle class created in Que 1, which will inherit the vehicle class. Create a method named seating_capacity which takes capacity as an argument and returns the name of the vehicle and its seating capacity."
   ]
  },
  {
   "cell_type": "code",
   "execution_count": 36,
   "id": "7edfea0d-9755-439e-bca1-6ce3dcf8046a",
   "metadata": {},
   "outputs": [],
   "source": [
    "class Car(vehicle):\n",
    "    def seating_capacity(self, capacity):\n",
    "        return self.name_of_vehicle, capacity\n"
   ]
  },
  {
   "cell_type": "code",
   "execution_count": 38,
   "id": "257b8881-954a-4a78-82b0-045b6dca190d",
   "metadata": {},
   "outputs": [
    {
     "name": "stdout",
     "output_type": "stream",
     "text": [
      "('Sedan', 4)\n"
     ]
    }
   ],
   "source": [
    "car = Car(\"Sedan\", 5, 30)\n",
    "print(car.seating_capacity(4))\n"
   ]
  },
  {
   "cell_type": "markdown",
   "id": "790180f7-0efd-4627-bfd6-1ea88398a2f3",
   "metadata": {},
   "source": [
    "### Q3. What is multiple inheritance? Write a python code to demonstrate multiple inheritance."
   ]
  },
  {
   "cell_type": "markdown",
   "id": "6b656f37-27c1-44ef-85ae-f7ff1da0f3ad",
   "metadata": {},
   "source": [
    "Multiple inheritance is a feature in object-oriented programming languages that allows a class to inherit characteristics and behaviors from multiple parent classes. In other words, a class can derive attributes and methods from more than one base class."
   ]
  },
  {
   "cell_type": "code",
   "execution_count": 39,
   "id": "c51c2f3a-744b-4161-b1b8-2cd2f6326584",
   "metadata": {},
   "outputs": [],
   "source": [
    "class fruit:\n",
    "    def fruits_name(self):\n",
    "        return \"Apple, Banana, Avocado\""
   ]
  },
  {
   "cell_type": "code",
   "execution_count": 40,
   "id": "2bd243a1-638c-407f-a0e9-a7dca3c1cd9f",
   "metadata": {},
   "outputs": [],
   "source": [
    "class veggies:\n",
    "    def veggies_name(self):\n",
    "        return \"Beet, Cabbage, Lettuce\""
   ]
  },
  {
   "cell_type": "code",
   "execution_count": 41,
   "id": "9b17c01e-a016-42f0-ac8a-d4e42ea9624b",
   "metadata": {},
   "outputs": [],
   "source": [
    "class salad(fruit,veggies):\n",
    "    def ingridients(self):\n",
    "        return \"Fruits and veggies\""
   ]
  },
  {
   "cell_type": "code",
   "execution_count": 42,
   "id": "0f40fce2-49f0-4613-a44a-0408c316439f",
   "metadata": {},
   "outputs": [],
   "source": [
    "Salad= salad()"
   ]
  },
  {
   "cell_type": "code",
   "execution_count": 44,
   "id": "4ad9596f-1d95-432f-9ad1-a8af2fbb4e5a",
   "metadata": {},
   "outputs": [
    {
     "name": "stdout",
     "output_type": "stream",
     "text": [
      "Fruits and veggies\n",
      "Apple, Banana, Avocado\n",
      "Beet, Cabbage, Lettuce\n"
     ]
    }
   ],
   "source": [
    "print(Salad.ingridients())\n",
    "print(Salad.fruits_name())\n",
    "print(Salad.veggies_name())"
   ]
  },
  {
   "cell_type": "markdown",
   "id": "6fb219cd-4659-4c27-8752-464fe13aa2a4",
   "metadata": {},
   "source": [
    "### Q4. What are getter and setter in python? Create a class and create a getter and a setter method in this class."
   ]
  },
  {
   "cell_type": "markdown",
   "id": "626cf991-1375-46d2-9956-4bba1aef8184",
   "metadata": {},
   "source": [
    "- Getter and Setter methods are used to control the access to instance variables (attributes) of a class. They provide a way to get (retrieve) and set (modify) the values of private instance variables, enabling encapsulation and data abstraction."
   ]
  },
  {
   "cell_type": "code",
   "execution_count": 45,
   "id": "045a8003-276b-4690-b090-194b3b8f2059",
   "metadata": {},
   "outputs": [
    {
     "name": "stdout",
     "output_type": "stream",
     "text": [
      "John\n",
      "Jane\n"
     ]
    }
   ],
   "source": [
    "class Person:\n",
    "    def __init__(self, name):\n",
    "        self._name = name  # Private instance variable\n",
    "\n",
    "    def get_name(self):\n",
    "        return self._name\n",
    "\n",
    "    def set_name(self, name):\n",
    "        self._name = name\n",
    "\n",
    "person = Person(\"John\")\n",
    "\n",
    "print(person.get_name()) \n",
    "\n",
    "person.set_name(\"Jane\")\n",
    "\n",
    "print(person.get_name()) \n"
   ]
  },
  {
   "cell_type": "markdown",
   "id": "7ad1a044-77e6-4265-89f8-74924d392d75",
   "metadata": {},
   "source": [
    "### Q5.What is method overriding in python? Write a python code to demonstrate method overriding."
   ]
  },
  {
   "cell_type": "markdown",
   "id": "e6ae4d57-b6b9-4453-a8ea-bae9fcc7ce0f",
   "metadata": {},
   "source": [
    "Method overriding is a feature in object-oriented programming that allows a subclass to provide a different implementation of a method that is already defined in its superclass. The overridden method in the subclass has the same name, return type, and parameters as the method in the superclass, but provides a modified or extended implementation."
   ]
  },
  {
   "cell_type": "code",
   "execution_count": 46,
   "id": "9fae14a3-ea73-4c7f-915a-1d100c1ea4d0",
   "metadata": {},
   "outputs": [
    {
     "name": "stdout",
     "output_type": "stream",
     "text": [
      "This is a vehicle.\n",
      "This is a car.\n"
     ]
    }
   ],
   "source": [
    "class Vehicle:\n",
    "    def display_info(self):\n",
    "        print(\"This is a vehicle.\")\n",
    "\n",
    "class Car(Vehicle):\n",
    "    def display_info(self):\n",
    "        print(\"This is a car.\")\n",
    "\n",
    "vehicle = Vehicle()\n",
    "car = Car()\n",
    "\n",
    "vehicle.display_info()  \n",
    "car.display_info()     "
   ]
  },
  {
   "cell_type": "code",
   "execution_count": null,
   "id": "5f5d6942-e74f-417e-b64b-5528b3fdad91",
   "metadata": {},
   "outputs": [],
   "source": []
  }
 ],
 "metadata": {
  "kernelspec": {
   "display_name": "Python 3 (ipykernel)",
   "language": "python",
   "name": "python3"
  },
  "language_info": {
   "codemirror_mode": {
    "name": "ipython",
    "version": 3
   },
   "file_extension": ".py",
   "mimetype": "text/x-python",
   "name": "python",
   "nbconvert_exporter": "python",
   "pygments_lexer": "ipython3",
   "version": "3.10.8"
  }
 },
 "nbformat": 4,
 "nbformat_minor": 5
}
