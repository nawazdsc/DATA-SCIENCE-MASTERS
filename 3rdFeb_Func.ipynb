{
 "cells": [
  {
   "cell_type": "markdown",
   "id": "25551d36-ceaa-43fa-b702-bb0834fdcce0",
   "metadata": {},
   "source": [
    "### Q1. Which keyword is used to create a function? Create a function to return a list of odd numbers in the range of 1 to 25.\n",
    "#### ->'def' keyword is used to create a function. e.g. def function_name(arguements):"
   ]
  },
  {
   "cell_type": "code",
   "execution_count": 1,
   "id": "6940bc10-aa96-431a-b976-a558e3f284bf",
   "metadata": {},
   "outputs": [],
   "source": [
    "#function to return a list of odd numbers in the range of 1 to 25.\n",
    "\n",
    "def odd():\n",
    "    l=[]\n",
    "    for i in range(1,26):\n",
    "        if i%2==1:\n",
    "            l.append(i)\n",
    "    return l"
   ]
  },
  {
   "cell_type": "code",
   "execution_count": 2,
   "id": "d5acdd16-ac84-4352-82d7-6e0726f03a70",
   "metadata": {},
   "outputs": [
    {
     "data": {
      "text/plain": [
       "[1, 3, 5, 7, 9, 11, 13, 15, 17, 19, 21, 23, 25]"
      ]
     },
     "execution_count": 2,
     "metadata": {},
     "output_type": "execute_result"
    }
   ],
   "source": [
    "odd()"
   ]
  },
  {
   "cell_type": "markdown",
   "id": "e9672967-1536-46c5-9fe3-1c2eff235c81",
   "metadata": {},
   "source": [
    "### Q2. Why *args and **kwargs is used in some functions? Create a function each for *args and **kwargs to demonstrate their use.\n",
    "#### -> *args is used to pass a variable number of non-keyword arguments to a function. It allows us to pass any number of arguments to the function, and the function will receive them as a tuple.\n",
    "### **kwargs is used to pass a variable number of keyword arguments to a function. It allows us to pass any number of keyword arguments to the function, and the function will receive them as a dictionary."
   ]
  },
  {
   "cell_type": "code",
   "execution_count": 1,
   "id": "74da5128-7d36-4255-b4e5-a8e55610ff95",
   "metadata": {},
   "outputs": [
    {
     "data": {
      "text/plain": [
       "(1, 2, 3, 'a', 'b', 'c')"
      ]
     },
     "execution_count": 1,
     "metadata": {},
     "output_type": "execute_result"
    }
   ],
   "source": [
    "#*args example:\n",
    "def args_eg(*args):\n",
    "    return args\n",
    "args_eg(1,2,3,\"a\",\"b\",\"c\")"
   ]
  },
  {
   "cell_type": "code",
   "execution_count": 2,
   "id": "b316438e-dc1a-452a-bd77-dd70357e2bc4",
   "metadata": {},
   "outputs": [
    {
     "data": {
      "text/plain": [
       "{'a': 1, 'b': 2, 'c': 3, 'd': 'a', 'e': 'b'}"
      ]
     },
     "execution_count": 2,
     "metadata": {},
     "output_type": "execute_result"
    }
   ],
   "source": [
    "#**kwargs example\n",
    "def kwargs_eg(**kwargs):\n",
    "    return kwargs\n",
    "kwargs_eg(a=1,b=2,c=3,d=\"a\",e=\"b\")"
   ]
  },
  {
   "cell_type": "markdown",
   "id": "fc89b5a6-62b5-4cb7-9448-ef2af51f8e44",
   "metadata": {},
   "source": [
    "## Q3. What is an iterator in python? Name the method used to initialise the iterator object and the method used for iteration. Use these methods to print the first five elements of the given list [2, 4, 6, 8, 10, 12, 14, 16, 18, 20].\n",
    "### ->An iterator in Python is an object that allows you to traverse through a sequence of values one at a time. Iterators are implemented using two methods: __iter__() and __next__(). The __iter__() method returns the iterator object, and the __next__() method returns the next value in the sequence.To create an iterator in Python, we can use the iter() function, which takes an iterable object and returns an iterator object."
   ]
  },
  {
   "cell_type": "code",
   "execution_count": 3,
   "id": "13d50a47-321e-45e4-92cf-c750be5fcdf8",
   "metadata": {},
   "outputs": [
    {
     "name": "stdout",
     "output_type": "stream",
     "text": [
      "2\n",
      "4\n",
      "6\n",
      "8\n",
      "10\n"
     ]
    }
   ],
   "source": [
    "# Initialize iterator object\n",
    "my_list = [2, 4, 6, 8, 10, 12, 14, 16, 18, 20]\n",
    "my_iterator = iter(my_list)\n",
    "\n",
    "# Iterate through the first five elements of the list\n",
    "for i in range(5):\n",
    "    element = next(my_iterator)\n",
    "    print(element)\n"
   ]
  },
  {
   "cell_type": "markdown",
   "id": "997b6134-0b3f-4270-9187-b01f5bca69e5",
   "metadata": {},
   "source": [
    "## Q4. What is a generator function in python? Why yield keyword is used? Give an example of a generator function.\n",
    "### A generator function in Python is a special type of function that returns an iterator object. Instead of returning a single value and exiting, a generator function can yield multiple values one at a time, and then resume execution from where it left off the next time it is called. \n",
    "### The yield keyword is used in a generator function to specify the value to be yielded. When the generator function is called, it does not execute immediately, but instead returns a generator object that can be used to iterate through the yielded values. Each time the yield keyword is encountered in the generator function, the value specified is returned to the caller, and the state of the function is saved. The next time the function is called, execution resumes from where it left off, with the values of any variables still intact."
   ]
  },
  {
   "cell_type": "code",
   "execution_count": 4,
   "id": "87b42237-c435-47f3-80a8-fbf714167283",
   "metadata": {},
   "outputs": [
    {
     "name": "stdout",
     "output_type": "stream",
     "text": [
      "0\n",
      "2\n",
      "4\n",
      "6\n",
      "8\n"
     ]
    }
   ],
   "source": [
    "def even_numbers(n):\n",
    "    i = 0\n",
    "    while i < n:\n",
    "        yield 2 * i\n",
    "        i += 1\n",
    "\n",
    "# Example usage\n",
    "my_iterator = even_numbers(5)\n",
    "for num in my_iterator:\n",
    "    print(num)\n"
   ]
  },
  {
   "cell_type": "markdown",
   "id": "caaff827-336d-4ac1-bac7-eafb29765dcc",
   "metadata": {},
   "source": [
    "## Q5. Create a generator function for prime numbers less than 1000. Use the next() method to print the first 20 prime numbers.\n"
   ]
  },
  {
   "cell_type": "code",
   "execution_count": 5,
   "id": "698dece3-7c6e-4d22-98d6-2bcd1abf03b9",
   "metadata": {},
   "outputs": [
    {
     "name": "stdout",
     "output_type": "stream",
     "text": [
      "2\n",
      "3\n",
      "5\n",
      "7\n",
      "11\n",
      "13\n",
      "17\n",
      "19\n",
      "23\n",
      "29\n",
      "31\n",
      "37\n",
      "41\n",
      "43\n",
      "47\n",
      "53\n",
      "59\n",
      "61\n",
      "67\n",
      "71\n"
     ]
    }
   ],
   "source": [
    "def primes_less_than_1000():\n",
    "    for num in range(2, 1000):\n",
    "        for i in range(2, num):\n",
    "            if num % i == 0:\n",
    "                break\n",
    "        else:\n",
    "            yield num\n",
    "prime_iterator = primes_less_than_1000()\n",
    "\n",
    "for i in range(20):\n",
    "    prime_number = next(prime_iterator)\n",
    "    print(prime_number)\n"
   ]
  },
  {
   "cell_type": "code",
   "execution_count": null,
   "id": "16a3bef0-00b3-4226-a8d2-2e60a84dd0ec",
   "metadata": {},
   "outputs": [],
   "source": []
  }
 ],
 "metadata": {
  "kernelspec": {
   "display_name": "Python 3 (ipykernel)",
   "language": "python",
   "name": "python3"
  },
  "language_info": {
   "codemirror_mode": {
    "name": "ipython",
    "version": 3
   },
   "file_extension": ".py",
   "mimetype": "text/x-python",
   "name": "python",
   "nbconvert_exporter": "python",
   "pygments_lexer": "ipython3",
   "version": "3.10.8"
  }
 },
 "nbformat": 4,
 "nbformat_minor": 5
}
