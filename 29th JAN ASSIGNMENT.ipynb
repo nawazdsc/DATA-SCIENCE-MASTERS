{
 "cells": [
  {
   "cell_type": "markdown",
   "id": "34adf7bf-bffb-4759-b86c-bc90fcf4791e",
   "metadata": {},
   "source": [
    "# 29TH JAN ASSIGNMENT "
   ]
  },
  {
   "cell_type": "markdown",
   "id": "f310419a-1fa1-4ba9-bfa4-903321a09c7f",
   "metadata": {},
   "source": [
    "## 1. Who developed pyhton programming langueage?\n",
    "### ->Python programming language was developed by `Guido van Rossum` in the late 1980s and early 1990s."
   ]
  },
  {
   "cell_type": "markdown",
   "id": "8b59dd2d-18f9-4684-84a7-975f9c4f2f4b",
   "metadata": {},
   "source": [
    "## 2. Which type of programming does python support?\n",
    "### ->Python supports multiple programming paradigms, including object-oriented programming, procedural programming, and functional programming."
   ]
  },
  {
   "cell_type": "markdown",
   "id": "d6a91233-bc06-4561-820e-d4c3a1921d78",
   "metadata": {},
   "source": [
    "## 3. Is python case sensitive when dealing with identifiers?\n",
    "### ->Yes, Python is case sensitive when dealing with identifiers, such as variable and function names. For example, the variables `a` and `A` would be considered two separate variables."
   ]
  },
  {
   "cell_type": "markdown",
   "id": "52c35564-998e-4a70-9ed3-09fc8ad33b80",
   "metadata": {},
   "source": [
    "## 4. What is the correct extension of the python file?\n",
    "### ->The correct extension of a Python file is `.py`. This extension is used for Python source code files and is recognized by the Python interpreter, allowing you to run the code contained in the file."
   ]
  },
  {
   "cell_type": "markdown",
   "id": "bff3d49c-6cdb-48b2-9475-fafc88104101",
   "metadata": {},
   "source": [
    "## 5. Is python code compiled or interpreted?\n",
    "### ->When we run Python code, it goes through two processes: `compilation` and `interpretation`. The first process is the `compilation`, where Python converts the code into a format called `bytecode`. This bytecode is not meant to be read by humans, but instead by a `virtual machine` called the `Python virtual machine (PVM)`. The second process is `interpretation`, where the `PVM` executes the `bytecode` line by line, which produces the final output. This process is hidden from the user and happens automatically.\n",
    "\n",
    "### Although it's common to say that Python is an `interpreted` language, it's technically both `compiled` and `interpreted`. The compilation step happens behind the scenes, while the interpretation step is what the user sees and interacts with."
   ]
  },
  {
   "cell_type": "markdown",
   "id": "39e15d84-41d6-48c1-9fc9-b8cf12069d8b",
   "metadata": {},
   "source": [
    "## 6. Name a few blocks of code used to define in Python language.\n",
    "### ->`Class`, `def`, `for`/`while`, `if`/`elif`/`else` are a few blocks of code used to define in Python language."
   ]
  },
  {
   "cell_type": "markdown",
   "id": "fd1c2f8b-ce0c-4810-a347-b9a8ce03b53b",
   "metadata": {},
   "source": [
    "## 7. State a character used to give single line comment in Python!.\n",
    "### -> `#` is used to give single line comment in Python."
   ]
  },
  {
   "cell_type": "markdown",
   "id": "60ebd9e1-c44a-49fb-a0cc-6ea149357c59",
   "metadata": {},
   "source": [
    "## 8. Mention functions which can help us to find version of python we are currently working on.\n",
    "### ->`sys.version`, `sys.version_info`, `platform.python_version()` can help us to find version of python we are currently working on."
   ]
  },
  {
   "cell_type": "markdown",
   "id": "6d912806-6d4d-428c-b075-290df777e1a5",
   "metadata": {},
   "source": [
    "## 9. Python supports creation of anonymous function at runtime, using a construct called ______\n",
    "### ->In Python, anonymous functions can be created at runtime using a construct called a `lambda` function."
   ]
  },
  {
   "cell_type": "markdown",
   "id": "8a6ed6c4-e387-4791-a580-cd5210fc6a57",
   "metadata": {},
   "source": [
    "## 10. What does pip stands for in python?\n",
    "### ->Pip stands for `Pip Installs Packages`."
   ]
  },
  {
   "cell_type": "markdown",
   "id": "18796622-ec84-42f3-a40d-19650ace63a6",
   "metadata": {},
   "source": [
    "## 11. Mention a few built in function in Python!\n",
    "### -> `print()`, `type()`, `sum()`, `min()`, `max()` are some of the built in function in python."
   ]
  },
  {
   "cell_type": "markdown",
   "id": "3a47d489-03ee-423e-96d4-30cb107aaf82",
   "metadata": {},
   "source": [
    "## 12. What is the maximum possible length of an identifier in Pyhton?\n",
    "### -> In Python, there is no strict limit on the length of an identifier, but it is recommended to keep it within 255 characters for compatibility and to avoid errors."
   ]
  },
  {
   "cell_type": "markdown",
   "id": "a250ef86-93e9-433f-bf77-b6d4431e22cd",
   "metadata": {},
   "source": [
    "## 13. What are the benefits of using Python?\n",
    "### ->Python has several benefits, including being `easy to learn and use`, `versatile`, having a `large community and libraries`, being `cross-platform`, `good for prototyping`, having `dynamic typing`, and being a `high-level language`."
   ]
  },
  {
   "cell_type": "markdown",
   "id": "dfe08677-badd-4ac9-ae7e-6d06f1768259",
   "metadata": {},
   "source": [
    "## 14. How is memory managed in Python?\n",
    "### ->In Python, memory management is handled automatically by the `memory manager`, which uses a `garbage collector` to `free up memory` no longer in use by the program. The memory manager also provides tools such as the `del` statement and the `weakref` module for `manual memory management`. Python's memory management system is designed to make it easy for developers to write efficient code without manual memory management, but it's still important to be mindful of memory usage."
   ]
  },
  {
   "cell_type": "markdown",
   "id": "597e9244-590f-4803-99cb-ca9973369d1c",
   "metadata": {},
   "source": [
    "## 15. How to install python on windows and set a path variable?\n",
    "### ->To install Python on Windows and set the path variable:\n",
    "### >Download the latest version of Python from the official website and run the installer.\n",
    "### >Check the box to add Python to your path during installation.\n",
    "### >Open the System Environment Variables and edit the 'Path' variable, adding the path to the Python installation (e.g. C:\\Python37\\).\n",
    "### >Restart your computer or open a new command prompt to apply the changes.\n",
    "### >To check the version, run python in the command prompt and then import sys; print(sys.version) in the Python interpreter."
   ]
  },
  {
   "cell_type": "markdown",
   "id": "942697a8-7b7f-4576-ba0d-53156005b0c1",
   "metadata": {},
   "source": [
    "## 16. Is indentation required in Python?\n",
    "### ->Yes, indentation is required in Python to indicate blocks of code within control structures, like loops and functions. Proper indentation is essential for the code to work correctly and makes the code easier to read and understand. It is recommended to use four spaces per level of indentation and be consistent throughout the code."
   ]
  },
  {
   "cell_type": "code",
   "execution_count": null,
   "id": "b94b4478-1c21-4c45-befd-043d788298e3",
   "metadata": {},
   "outputs": [],
   "source": []
  }
 ],
 "metadata": {
  "kernelspec": {
   "display_name": "Python 3 (ipykernel)",
   "language": "python",
   "name": "python3"
  },
  "language_info": {
   "codemirror_mode": {
    "name": "ipython",
    "version": 3
   },
   "file_extension": ".py",
   "mimetype": "text/x-python",
   "name": "python",
   "nbconvert_exporter": "python",
   "pygments_lexer": "ipython3",
   "version": "3.10.8"
  }
 },
 "nbformat": 4,
 "nbformat_minor": 5
}
