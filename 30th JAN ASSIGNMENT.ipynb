{
 "cells": [
  {
   "cell_type": "markdown",
   "id": "092bd962-4b5a-46aa-b885-d477c851ab6b",
   "metadata": {},
   "source": [
    "## 1. Code to accept percentage and display grade."
   ]
  },
  {
   "cell_type": "code",
   "execution_count": 2,
   "id": "4914e6a3-e97b-4b44-b867-f0a2b9290fea",
   "metadata": {
    "tags": []
   },
   "outputs": [
    {
     "name": "stdout",
     "output_type": "stream",
     "text": [
      "***************RESULT***************\n"
     ]
    },
    {
     "name": "stdin",
     "output_type": "stream",
     "text": [
      "ENTER PERCENTAGE SCORED IN EXAM TO KNOW THE GRADE:  50\n"
     ]
    },
    {
     "name": "stdout",
     "output_type": "stream",
     "text": [
      "GRADE:  D\n"
     ]
    }
   ],
   "source": [
    "print(\"***************RESULT***************\")\n",
    "marks=int(input(\"ENTER PERCENTAGE SCORED IN EXAM TO KNOW THE GRADE: \"))\n",
    "grade=\"\"\n",
    "if marks>90:\n",
    "    grade='A'\n",
    "    print(\"GRADE: \",grade)\n",
    "elif marks>80 and marks<=90:\n",
    "    grade='B'\n",
    "    print(\"GRADE: \",grade)\n",
    "elif marks>=60 and marks<=80:\n",
    "    grade='C'\n",
    "    print(\"GRADE: \",grade)\n",
    "elif marks<60:\n",
    "    grade='D'\n",
    "    print(\"GRADE: \",grade)\n",
    "    "
   ]
  },
  {
   "cell_type": "markdown",
   "id": "52991316-2aed-45a5-9311-bd6a72ebbb15",
   "metadata": {},
   "source": [
    "## 2. Code to accept cost price of a bike and display the road tax."
   ]
  },
  {
   "cell_type": "code",
   "execution_count": 6,
   "id": "8230cb54-c776-419f-97fd-5495fa56196a",
   "metadata": {},
   "outputs": [
    {
     "name": "stdin",
     "output_type": "stream",
     "text": [
      "Enter the price of bike:  60000\n"
     ]
    },
    {
     "name": "stdout",
     "output_type": "stream",
     "text": [
      "Road tax to be paid:  6000.0\n"
     ]
    }
   ],
   "source": [
    "price=int(input(\"Enter the price of bike: \"))\n",
    "tax=0\n",
    "if price>100000:\n",
    "    tax=0.15*price\n",
    "    print(\"Road tax to be paid: \",tax)\n",
    "elif price>50000 and price<=100000:\n",
    "    tax=0.1*price\n",
    "    print(\"Road tax to be paid: \",tax)\n",
    "elif price<=50000:\n",
    "    tax=0.05*price\n",
    "    print(\"Road tax to be paid: \",tax)"
   ]
  },
  {
   "cell_type": "markdown",
   "id": "44ab5587-64dc-48bc-9115-c32f50308885",
   "metadata": {},
   "source": [
    "## 3. Accept any city from user and display its monument."
   ]
  },
  {
   "cell_type": "code",
   "execution_count": 10,
   "id": "dabc4c71-237e-452f-a9da-e7bfb1204319",
   "metadata": {},
   "outputs": [
    {
     "name": "stdin",
     "output_type": "stream",
     "text": [
      "Enter the city name from the followings to know its city:\n",
      "Delhi\n",
      "Agra\n",
      "Jaipur\n",
      " Jaipur\n"
     ]
    },
    {
     "name": "stdout",
     "output_type": "stream",
     "text": [
      "Monumnet in Jaipur : Jal Mahal\n"
     ]
    }
   ],
   "source": [
    "city=input(\"Enter the city name from the followings to know its city:\\nDelhi\\nAgra\\nJaipur\\n\")\n",
    "if \"Delhi\" in city:\n",
    "    print(\"Monument in {0} : Red Fort \".format(city))\n",
    "elif \"Agra\" in city:\n",
    "    print(\"Monument in {0} : Taj Mahal\".format(city))\n",
    "elif \"Jaipur\" in city:\n",
    "    print(\"Monumnet in {0} : Jal Mahal\".format(city))"
   ]
  },
  {
   "cell_type": "markdown",
   "id": "9ca3e9d7-8df8-41ae-81fe-ef9385269a29",
   "metadata": {},
   "source": [
    "## 4. Check how many times a number can be divided by 3 befeore it is less than or equal to 10."
   ]
  },
  {
   "cell_type": "code",
   "execution_count": 16,
   "id": "6d73115d-e421-4a2c-b710-1b7867e3e05c",
   "metadata": {},
   "outputs": [
    {
     "name": "stdin",
     "output_type": "stream",
     "text": [
      "Enter a number to check how many times it can be divided by 3 before it is less than or equal to 10:  10\n"
     ]
    },
    {
     "data": {
      "text/plain": [
       "1"
      ]
     },
     "execution_count": 16,
     "metadata": {},
     "output_type": "execute_result"
    }
   ],
   "source": [
    "num=int(input(\"Enter a number to check how many times it can be divided by 3 before it is less than or equal to 10: \"))\n",
    "count=0\n",
    "while num>=10:\n",
    "    num=num/3\n",
    "    count+=1\n",
    "count"
   ]
  },
  {
   "cell_type": "markdown",
   "id": "8a1b6837-056e-4418-9c97-970883020862",
   "metadata": {},
   "source": [
    "## 5. Why and when we use while loop in Python give a detailed description with example \n",
    "### ->In Python, the while loop is used to repeat a block of code as long as a given condition is met. The structure of a while loop is as follows:\n",
    "### while condition:\n",
    "   ###  code to be executed\n",
    "### The code in the loop body will be executed repeatedly as long as the condition is true. When the condition becomes false, the loop stops.\n",
    "\n",
    "### Here's an example that prints the numbers from 1 to 5:\n",
    "\n",
    "### count = 1\n",
    "### while count <= 5:\n",
    "   ###     print(count)\n",
    "   ###     count += 1\n",
    "\n",
    "### Output:\n",
    "### 1\n",
    "### 2\n",
    "### 3\n",
    "### 4\n",
    "### 5\n",
    "\n",
    "### It's important to make sure the condition eventually becomes false, otherwise the loop will run forever and result in an infinite loop."
   ]
  },
  {
   "cell_type": "markdown",
   "id": "41b0685c-20a5-4e16-956f-02f146bfe893",
   "metadata": {},
   "source": [
    "## 6. Use nested while loop to print 3 different patterns"
   ]
  },
  {
   "cell_type": "code",
   "execution_count": 11,
   "id": "06a25329-fd30-4ed7-bd3d-66729fc2552d",
   "metadata": {},
   "outputs": [
    {
     "name": "stdout",
     "output_type": "stream",
     "text": [
      "*\n",
      "**\n",
      "***\n",
      "****\n",
      "*****\n"
     ]
    }
   ],
   "source": [
    "#TRIANGLE  pattern\n",
    "n = 5\n",
    "i = 1\n",
    "while i <= n:\n",
    "    j = 1\n",
    "    while j <= i:\n",
    "        print(\"*\", end=\"\")\n",
    "        j = j + 1\n",
    "    print(\"\")\n",
    "    i = i + 1\n"
   ]
  },
  {
   "cell_type": "code",
   "execution_count": 12,
   "id": "7984bf4e-6a6b-4b70-9a14-fe624592eeb6",
   "metadata": {},
   "outputs": [
    {
     "name": "stdout",
     "output_type": "stream",
     "text": [
      "    *\n",
      "   ***\n",
      "  *****\n",
      " *******\n",
      "*********\n",
      " *******\n",
      "  *****\n",
      "   ***\n",
      "    *\n"
     ]
    }
   ],
   "source": [
    "# DIAMOND PATTERN\n",
    "n = 5\n",
    "i = 1\n",
    "while i <= n:\n",
    "    j = 1\n",
    "    while j <= n - i:\n",
    "        print(\" \", end=\"\")\n",
    "        j = j + 1\n",
    "    k = 1\n",
    "    while k <= (2 * i - 1):\n",
    "        print(\"*\", end=\"\")\n",
    "        k = k + 1\n",
    "    print(\"\")\n",
    "    i = i + 1\n",
    "i = n - 1\n",
    "while i >= 1:\n",
    "    j = 1\n",
    "    while j <= n - i:\n",
    "        print(\" \", end=\"\")\n",
    "        j = j + 1\n",
    "    k = 1\n",
    "    while k <= (2 * i - 1):\n",
    "        print(\"*\", end=\"\")\n",
    "        k = k + 1\n",
    "    print(\"\")\n",
    "    i = i - 1\n"
   ]
  },
  {
   "cell_type": "code",
   "execution_count": 13,
   "id": "d405d8aa-e079-457c-afb6-29ce95546204",
   "metadata": {},
   "outputs": [
    {
     "name": "stdout",
     "output_type": "stream",
     "text": [
      "    *\n",
      "   ***\n",
      "  *****\n",
      " *******\n",
      "*********\n"
     ]
    }
   ],
   "source": [
    "# PYRAMID PATTERM\n",
    "n = 5\n",
    "i = 1\n",
    "while i <= n:\n",
    "    j = 1\n",
    "    while j <= n - i:\n",
    "        print(\" \", end=\"\")\n",
    "        j = j + 1\n",
    "    k = 1\n",
    "    while k <= (2 * i - 1):\n",
    "        print(\"*\", end=\"\")\n",
    "        k = k + 1\n",
    "    print(\"\")\n",
    "    i = i + 1\n"
   ]
  },
  {
   "cell_type": "markdown",
   "id": "7772242f-9dab-4f77-b4a7-6d3dde954340",
   "metadata": {},
   "source": [
    "## 7. Reverse a while loop to display number from 10 to 1"
   ]
  },
  {
   "cell_type": "code",
   "execution_count": 10,
   "id": "b9872cdd-5106-4d6c-a668-d195ad0ae3a3",
   "metadata": {},
   "outputs": [
    {
     "name": "stdout",
     "output_type": "stream",
     "text": [
      "10\n",
      "9\n",
      "8\n",
      "7\n",
      "6\n",
      "5\n",
      "4\n",
      "3\n",
      "2\n",
      "1\n"
     ]
    }
   ],
   "source": [
    "i=10\n",
    "while i!=0:\n",
    "    print(i)\n",
    "    i-=1"
   ]
  }
 ],
 "metadata": {
  "kernelspec": {
   "display_name": "Python 3 (ipykernel)",
   "language": "python",
   "name": "python3"
  },
  "language_info": {
   "codemirror_mode": {
    "name": "ipython",
    "version": 3
   },
   "file_extension": ".py",
   "mimetype": "text/x-python",
   "name": "python",
   "nbconvert_exporter": "python",
   "pygments_lexer": "ipython3",
   "version": "3.10.8"
  }
 },
 "nbformat": 4,
 "nbformat_minor": 5
}
